{
 "cells": [
  {
   "cell_type": "code",
   "execution_count": null,
   "metadata": {},
   "outputs": [],
   "source": [
    "import torch\n",
    "from transformers import BertTokenizer\n",
    "\n",
    "from src.models.internship_projects.train_simbert import TrainSimBert"
   ]
  },
  {
   "cell_type": "code",
   "execution_count": null,
   "metadata": {},
   "outputs": [],
   "source": [
    "ckpt = torch.load(\n",
    "    \"/data/deeplearning-all-in-one/logs/train/runs/2022-08-26/01-40-57/checkpoints/last_epoch.ckpt\"\n",
    ")"
   ]
  },
  {
   "cell_type": "code",
   "execution_count": null,
   "metadata": {},
   "outputs": [],
   "source": [
    "clean_ckpt = {}\n",
    "for k, v in ckpt.items():\n",
    "    clean_ckpt[k.replace(\"module.\", \"\")] = v"
   ]
  },
  {
   "cell_type": "code",
   "execution_count": null,
   "metadata": {},
   "outputs": [],
   "source": [
    "model = TrainSimBert()"
   ]
  },
  {
   "cell_type": "code",
   "execution_count": null,
   "metadata": {},
   "outputs": [],
   "source": [
    "model.load_state_dict(clean_ckpt, strict=False)"
   ]
  },
  {
   "cell_type": "code",
   "execution_count": null,
   "metadata": {},
   "outputs": [],
   "source": [
    "tokenizer = BertTokenizer.from_pretrained(\"hfl/chinese-roberta-wwm-ext\", cache_dir=\"~/.cache\")"
   ]
  },
  {
   "cell_type": "code",
   "execution_count": null,
   "metadata": {},
   "outputs": [],
   "source": [
    "simbert = model.model"
   ]
  },
  {
   "cell_type": "code",
   "execution_count": null,
   "metadata": {},
   "outputs": [],
   "source": [
    "simbert.eval()"
   ]
  },
  {
   "cell_type": "code",
   "execution_count": null,
   "metadata": {},
   "outputs": [],
   "source": [
    "simbert = simbert.to(\"cuda:0\")"
   ]
  },
  {
   "cell_type": "code",
   "execution_count": null,
   "metadata": {},
   "outputs": [],
   "source": [
    "tokenizer.batch_decode(\n",
    "    simbert.generate(\n",
    "        tokenizer(\"彻底拦截骚扰短信和电话\", return_tensors=\"pt\").to(\"cuda:0\").input_ids,\n",
    "        max_length=128,\n",
    "        # do_sample=True,\n",
    "        # top_p=0.95,\n",
    "        # top_k=50,\n",
    "        num_beams=5,\n",
    "        # num_return_sequences=5,\n",
    "        eos_token_id=tokenizer.sep_token_id,\n",
    "        pad_token_id=tokenizer.pad_token_id,\n",
    "        no_repeat_ngram_size=2,\n",
    "    ),\n",
    "    skip_special_tokens=False,\n",
    ")"
   ]
  },
  {
   "cell_type": "code",
   "execution_count": null,
   "metadata": {},
   "outputs": [],
   "source": [
    "vec1 = (\n",
    "    simbert.encode_text(tokenizer(\"彻底拦截骚扰短信和电话?\", return_tensors=\"pt\").to(\"cuda:0\").input_ids)\n",
    "    .cpu()\n",
    "    .detach()\n",
    "    .numpy()\n",
    ")"
   ]
  },
  {
   "cell_type": "code",
   "execution_count": null,
   "metadata": {},
   "outputs": [],
   "source": [
    "vec2 = (\n",
    "    simbert.encode_text(tokenizer(\"如何有效的防止骚扰电话及短信？\", return_tensors=\"pt\").to(\"cuda:0\").input_ids)\n",
    "    .cpu()\n",
    "    .detach()\n",
    "    .numpy()\n",
    ")"
   ]
  },
  {
   "cell_type": "code",
   "execution_count": null,
   "metadata": {},
   "outputs": [],
   "source": [
    "vec3 = (\n",
    "    simbert.encode_text(\n",
    "        tokenizer(\"携号转网后哪些权益业务会受到影响手机原先绑定微信支付宝银行\", return_tensors=\"pt\").to(\"cuda:0\").input_ids\n",
    "    )\n",
    "    .cpu()\n",
    "    .detach()\n",
    "    .numpy()\n",
    ")"
   ]
  },
  {
   "cell_type": "code",
   "execution_count": null,
   "metadata": {},
   "outputs": [],
   "source": [
    "vec1.dot(vec2.T)"
   ]
  },
  {
   "cell_type": "code",
   "execution_count": null,
   "metadata": {},
   "outputs": [],
   "source": [
    "vec1.dot(vec3.T)"
   ]
  },
  {
   "cell_type": "code",
   "execution_count": null,
   "metadata": {},
   "outputs": [],
   "source": [
    "vec2.dot(vec3.T)"
   ]
  }
 ],
 "metadata": {
  "kernelspec": {
   "display_name": "Python 3.8.10 64-bit",
   "language": "python",
   "name": "python3"
  },
  "language_info": {
   "codemirror_mode": {
    "name": "ipython",
    "version": 3
   },
   "file_extension": ".py",
   "mimetype": "text/x-python",
   "name": "python",
   "nbconvert_exporter": "python",
   "pygments_lexer": "ipython3",
   "version": "3.8.10"
  },
  "vscode": {
   "interpreter": {
    "hash": "916dbcbb3f70747c44a77c7bcd40155683ae19c65e1c03b4aa3499c5328201f1"
   }
  }
 },
 "nbformat": 4,
 "nbformat_minor": 2
}
