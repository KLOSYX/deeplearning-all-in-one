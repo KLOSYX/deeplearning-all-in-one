{
 "cells": [
  {
   "cell_type": "code",
   "execution_count": null,
   "metadata": {},
   "outputs": [],
   "source": [
    "import sys\n",
    "\n",
    "import gradio as gr\n",
    "import pyrootutils\n",
    "import torch\n",
    "import yaml\n",
    "\n",
    "root = pyrootutils.setup_root(__vsc_ipynb_file__, dotenv=True, pythonpath=True)\n",
    "sys.path.append(\"/data/deeplearning-all-in-one/src\")\n",
    "\n",
    "from src.models.dist_classify import DistClassify"
   ]
  },
  {
   "cell_type": "code",
   "execution_count": null,
   "metadata": {},
   "outputs": [],
   "source": [
    "path = torch.load(\n",
    "    \"/data/deeplearning-all-in-one/logs/train/runs/2022-08-03/18-17-12/checkpoints/model.ckpt\"\n",
    ")"
   ]
  },
  {
   "cell_type": "code",
   "execution_count": null,
   "metadata": {},
   "outputs": [],
   "source": [
    "map_location = {\"cuda:1\"}"
   ]
  },
  {
   "cell_type": "code",
   "execution_count": null,
   "metadata": {},
   "outputs": [],
   "source": [
    "model = DistClassify.load_from_checkpoint(\n",
    "    path,\n",
    "    hparams=yaml.safe_load(\n",
    "        open(\n",
    "            \"/data/deeplearning-all-in-one/logs/train/runs/2022-08-03/18-17-12/.hydra/config.yaml\",\n",
    "            \"r\",\n",
    "        )\n",
    "    ),\n",
    "    map_location=map_location,\n",
    ")"
   ]
  },
  {
   "cell_type": "code",
   "execution_count": null,
   "metadata": {},
   "outputs": [],
   "source": [
    "from transformers import BertTokenizer"
   ]
  },
  {
   "cell_type": "code",
   "execution_count": null,
   "metadata": {},
   "outputs": [],
   "source": [
    "device = \"cuda:1\" if torch.cuda.is_available() else \"cpu\"\n",
    "model = model.to(device)\n",
    "model.eval()\n",
    "tokenizer = BertTokenizer.from_pretrained(\"hfl/chinese-roberta-wwm-ext\", cache_dir=\"~/.cache\")"
   ]
  },
  {
   "cell_type": "code",
   "execution_count": null,
   "metadata": {},
   "outputs": [],
   "source": [
    "label = open(\"/data/clean_raw_text/street_label_map.txt\", \"r\").readlines()"
   ]
  },
  {
   "cell_type": "code",
   "execution_count": null,
   "metadata": {},
   "outputs": [],
   "source": [
    "label = [l.strip().split(\" \")[0] for l in label]"
   ]
  },
  {
   "cell_type": "code",
   "execution_count": null,
   "metadata": {},
   "outputs": [],
   "source": [
    "def fn(text: str):\n",
    "    encoded = tokenizer([text], return_tensors=\"pt\", truncation=True, max_length=200).to(device)\n",
    "    with torch.no_grad():\n",
    "        logit = model(encoded)[0]  # (num_classes)\n",
    "    prob = torch.nn.functional.softmax(logit, dim=0)\n",
    "    top_5 = torch.topk(prob, 5).indices.tolist()\n",
    "    top_5_prob = prob[top_5].tolist()\n",
    "    label_top_5 = [label[i] for i in top_5]\n",
    "    return {k: v for k, v in zip(label_top_5, top_5_prob)}"
   ]
  },
  {
   "cell_type": "code",
   "execution_count": null,
   "metadata": {},
   "outputs": [],
   "source": [
    "fn(\"门禁开不了,请问维修电话,谢谢\")"
   ]
  },
  {
   "cell_type": "code",
   "execution_count": null,
   "metadata": {},
   "outputs": [],
   "source": [
    "demo = gr.Interface(fn, inputs=\"text\", outputs=\"label\")\n",
    "demo.launch(share=True, debug=True, server_port=6006)"
   ]
  },
  {
   "cell_type": "code",
   "execution_count": null,
   "metadata": {},
   "outputs": [],
   "source": [
    "demo.close()"
   ]
  }
 ],
 "metadata": {
  "kernelspec": {
   "display_name": "Python 3.9.12 ('base')",
   "language": "python",
   "name": "python3"
  },
  "language_info": {
   "codemirror_mode": {
    "name": "ipython",
    "version": 3
   },
   "file_extension": ".py",
   "mimetype": "text/x-python",
   "name": "python",
   "nbconvert_exporter": "python",
   "pygments_lexer": "ipython3",
   "version": "3.9.12"
  },
  "vscode": {
   "interpreter": {
    "hash": "61a57a4b5406d2de388e2f91097d4e4bcd7d5f4a46f53a795aa28a02eed27fc5"
   }
  }
 },
 "nbformat": 4,
 "nbformat_minor": 2
}
